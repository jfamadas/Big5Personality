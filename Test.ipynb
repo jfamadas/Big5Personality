{
 "cells": [
  {
   "cell_type": "code",
   "execution_count": 1,
   "id": "3193c3b3",
   "metadata": {},
   "outputs": [],
   "source": [
    "from pyspark.ml.clustering import KMeans\n",
    "from pyspark.ml.evaluation import ClusteringEvaluator\n",
    "from pyspark.sql import SparkSession\n",
    "from pyspark.sql.functions import *\n",
    "from pyspark.ml.feature import VectorAssembler\n",
    "\n",
    "spark = SparkSession.builder.master(\"local[*]\").appName(\"appname\").getOrCreate()"
   ]
  },
  {
   "cell_type": "code",
   "execution_count": 2,
   "id": "21842686",
   "metadata": {},
   "outputs": [],
   "source": [
    "# Load data\n",
    "df_raw = spark.read.option(\"delimiter\", \"\\t\").option(\"header\", True).csv(\"data/data-final.csv\")\n",
    "\n",
    "# Clean zero values\n",
    "df_clearzero = df_raw\\\n",
    "        .withColumn(\"MINS\", least(\"EXT1\", \"EXT2\", \"EXT3\", \"EXT4\", \"EXT5\", \"EXT6\", \"EXT7\", \"EXT8\", \"EXT9\", \"EXT10\",\n",
    "                                  \"EST1\", \"EST2\", \"EST3\", \"EST4\", \"EST5\", \"EST6\", \"EST7\", \"EST8\", \"EST9\", \"EST10\",\n",
    "                                  \"AGR1\", \"AGR2\", \"AGR3\", \"AGR4\", \"AGR5\", \"AGR6\", \"AGR7\", \"AGR8\", \"AGR9\", \"AGR10\",\n",
    "                                  \"CSN1\", \"CSN2\", \"CSN3\", \"CSN4\", \"CSN5\", \"CSN6\", \"CSN7\", \"CSN8\", \"CSN9\", \"CSN10\",\n",
    "                                  \"OPN1\", \"OPN2\", \"OPN3\", \"OPN4\", \"OPN5\", \"OPN6\", \"OPN7\", \"OPN8\", \"OPN9\", \"OPN10\"))\\\n",
    "        .where(col(\"MINS\") > 0)\n",
    "\n",
    "# Prepare data\n",
    "df_rates = df_clearzero\\\n",
    "    .withColumn(\"EXT\", (col(\"EXT1\") + (6-col(\"EXT2\")) + col(\"EXT3\") + (6-col(\"EXT4\")) + col(\"EXT5\") +\n",
    "                        (6-col(\"EXT6\")) + col(\"EXT7\") + (6-col(\"EXT8\")) + col(\"EXT9\") + (6-col(\"EXT10\")))/10)\\\n",
    "    .withColumn(\"EST\", ((6-col(\"EST1\")) + col(\"EST2\") + (6-col(\"EST3\")) + col(\"EST4\") + (6-col(\"EST5\")) +\n",
    "                        (6-col(\"EST6\")) + (6-col(\"EST7\")) + (6-col(\"EST8\")) + (6-col(\"EST9\")) + (6-col(\"EST10\")))/10)\\\n",
    "    .withColumn(\"AGR\", ((6-col(\"AGR1\")) + col(\"AGR2\") + (6-col(\"AGR3\")) + col(\"AGR4\") + (6-col(\"AGR5\")) +\n",
    "                        col(\"AGR6\") + (6-col(\"AGR7\")) + col(\"AGR8\") + col(\"AGR9\") + col(\"AGR10\"))/10)\\\n",
    "    .withColumn(\"CSN\", (col(\"CSN1\") + (6-col(\"CSN2\")) + col(\"CSN3\") + (6-col(\"CSN4\")) + col(\"CSN5\") +\n",
    "                        (6-col(\"CSN6\")) + col(\"CSN7\") + (6-col(\"CSN8\")) + col(\"CSN9\") + col(\"CSN10\"))/10)\\\n",
    "    .withColumn(\"OPN\", (col(\"OPN1\") + (6-col(\"OPN2\")) + col(\"OPN3\") + (6-col(\"OPN4\")) + col(\"OPN5\") +\n",
    "                        (6-col(\"OPN6\")) + col(\"OPN7\") + col(\"OPN8\") + col(\"OPN9\") + col(\"OPN10\"))/10)\\\n",
    "    .select(col(\"EXT\"), col(\"EST\"), col(\"AGR\"), col(\"CSN\"), col(\"OPN\"))\n",
    "\n",
    "# Clean data WE NEED TO CLEAN 0 VALUES\n",
    "df_clean = df_rates.na.drop()\n",
    "    \n",
    "# Create features column\n",
    "assembler = VectorAssembler(\n",
    "        inputCols=[\"EXT\", \"EST\", \"AGR\", \"CSN\", \"OPN\"],\n",
    "        outputCol=\"features\")\n",
    "\n",
    "df = assembler.transform(df_clean)"
   ]
  },
  {
   "cell_type": "code",
   "execution_count": 24,
   "id": "25b908d6",
   "metadata": {},
   "outputs": [],
   "source": [
    "# Training\n",
    "kmeans = KMeans().setK(5).setSeed(1)\n",
    "model = kmeans.fit(df)"
   ]
  },
  {
   "cell_type": "code",
   "execution_count": 25,
   "id": "951d5889",
   "metadata": {},
   "outputs": [],
   "source": [
    "# Make predictions\n",
    "predictions = model.transform(df)"
   ]
  },
  {
   "cell_type": "code",
   "execution_count": 26,
   "id": "4981d631",
   "metadata": {},
   "outputs": [
    {
     "name": "stdout",
     "output_type": "stream",
     "text": [
      "Silhouette with squared euclidean distance = 0.2618651028753096\n",
      "Cluster Centers: \n",
      "[2.61118028 3.78462274 3.37056457 3.47343695 3.80476295]\n",
      "[3.91352799 3.6062426  4.2112818  3.76145545 4.06859859]\n",
      "[2.0798237  2.36997026 3.06043923 2.85953386 3.52100788]\n",
      "[2.38772268 2.40689203 4.07692852 3.78799174 3.91519239]\n",
      "[3.53399634 2.37051449 3.91663363 2.79490552 3.97069976]\n"
     ]
    }
   ],
   "source": [
    "# Evaluate clustering by computing Silhouette score\n",
    "evaluator = ClusteringEvaluator(predictionCol='prediction', featuresCol='features',\n",
    "                                metricName='silhouette', distanceMeasure='squaredEuclidean')\n",
    "\n",
    "silhouette = evaluator.evaluate(predictions)\n",
    "print(\"Silhouette with squared euclidean distance = \" + str(silhouette))\n",
    "\n",
    "# Shows the result.\n",
    "centers = model.clusterCenters()\n",
    "print(\"Cluster Centers: \")\n",
    "for center in centers:\n",
    "    print(center)"
   ]
  },
  {
   "cell_type": "markdown",
   "id": "54f36ef1",
   "metadata": {},
   "source": [
    "# Evaluate multiple K"
   ]
  },
  {
   "cell_type": "code",
   "execution_count": 12,
   "id": "616b8df6",
   "metadata": {},
   "outputs": [
    {
     "name": "stdout",
     "output_type": "stream",
     "text": [
      "K = 02 --- Silhouette Score: 0.340182387201013\n",
      "K = 03 --- Silhouette Score: 0.29543643623753496\n",
      "K = 04 --- Silhouette Score: 0.27410359012536906\n",
      "K = 05 --- Silhouette Score: 0.25408768217715655\n",
      "K = 06 --- Silhouette Score: 0.24905754534118626\n",
      "K = 07 --- Silhouette Score: 0.26092509211250614\n",
      "K = 08 --- Silhouette Score: 0.24789685352781768\n",
      "K = 09 --- Silhouette Score: 0.24984857642263975\n"
     ]
    }
   ],
   "source": [
    "silhouette_score=[]\n",
    "evaluator = ClusteringEvaluator(predictionCol='prediction', featuresCol='features',\n",
    "                                metricName='silhouette', distanceMeasure='squaredEuclidean')\n",
    "for i in range(2,10):\n",
    "    \n",
    "    KMeans_algo=KMeans(featuresCol='features', k=i)\n",
    "    \n",
    "    KMeans_fit=KMeans_algo.fit(df)\n",
    "    \n",
    "    output=KMeans_fit.transform(df)\n",
    "    \n",
    "    \n",
    "    \n",
    "    score=evaluator.evaluate(output)\n",
    "    \n",
    "    silhouette_score.append(score)\n",
    "    \n",
    "    print(\"K = \" + str(i).zfill(2) + \" --- Silhouette Score: \" + str(score))"
   ]
  },
  {
   "cell_type": "code",
   "execution_count": 15,
   "id": "fb4bb1ac",
   "metadata": {},
   "outputs": [
    {
     "data": {
      "text/plain": [
       "Text(0, 0.5, 'cost')"
      ]
     },
     "execution_count": 15,
     "metadata": {},
     "output_type": "execute_result"
    },
    {
     "data": {
      "image/png": "[encoded data removed]",
      "text/plain": [
       "<Figure size 576x432 with 1 Axes>"
      ]
     },
     "metadata": {
      "needs_background": "light"
     },
     "output_type": "display_data"
    }
   ],
   "source": [
    "#Visualizing the silhouette scores in a plot\n",
    "import matplotlib.pyplot as plt\n",
    "fig, ax = plt.subplots(1,1, figsize =(8,6))\n",
    "ax.plot(range(2,10),silhouette_score)\n",
    "ax.set_xlabel(\"k\")\n",
    "ax.set_ylabel(\"cost\")"
   ]
  },
  {
   "cell_type": "markdown",
   "id": "c6ac66d4",
   "metadata": {},
   "source": [
    "# Standarize"
   ]
  },
  {
   "cell_type": "code",
   "execution_count": 3,
   "id": "192c6819",
   "metadata": {},
   "outputs": [
    {
     "name": "stdout",
     "output_type": "stream",
     "text": [
      "+---+---+---+---+---+---------------------+-----------------------------------------------------------------------------------------------+\n",
      "|EXT|EST|AGR|CSN|OPN|features             |standardized                                                                                   |\n",
      "+---+---+---+---+---+---------------------+-----------------------------------------------------------------------------------------------+\n",
      "|4.6|3.6|3.9|3.2|4.5|[4.6,3.6,3.9,3.2,4.5]|[5.052975363729334,4.193065313786875,5.347850124521763,4.33991059261265,7.140156206584606]     |\n",
      "|2.0|3.5|4.4|3.7|3.5|[2.0,3.5,4.4,3.7,3.5]|[2.196945810317102,4.0765912772927955,6.033471935357888,5.018021622708377,5.5534548273435815]  |\n",
      "|2.5|3.4|4.2|3.4|4.1|[2.5,3.4,4.2,3.4,4.1]|[2.7461822628963772,3.960117240798716,5.759223211023437,4.611155004650941,6.505475654888195]   |\n",
      "|2.6|3.1|3.8|2.5|3.9|[2.6,3.1,3.8,2.5,3.9]|[2.8560295534122324,3.6106951313164766,5.210725762354539,3.390555150478633,6.188135379039991]  |\n",
      "|2.9|4.1|4.6|4.8|4.8|[2.9,4.1,4.6,4.8,4.8]|[3.1855714249597975,4.775435496257274,6.307720659692336,6.509865888918975,7.616166620356912]   |\n",
      "|3.2|3.8|3.8|3.7|4.4|[3.2,3.8,3.8,3.7,4.4]|[3.515113296507363,4.426013386775035,5.210725762354539,5.018021622708377,6.981486068660503]    |\n",
      "|3.5|3.0|4.1|3.3|4.3|[3.5,3.0,4.1,3.3,4.3]|[3.844655168054928,3.4942210948223966,5.622098848856212,4.475532798631796,6.8228159307364]     |\n",
      "|4.2|4.4|3.8|4.5|4.3|[4.2,4.4,3.8,4.5,4.3]|[4.613586201665914,5.124857605739515,5.210725762354539,6.102999270861539,6.8228159307364]      |\n",
      "|2.2|2.9|1.9|1.7|3.5|[2.2,2.9,1.9,1.7,3.5]|[2.416640391348812,3.3777470583283162,2.6053628811772693,2.3055775023254705,5.5534548273435815]|\n",
      "|2.9|2.1|3.7|2.4|5.0|[2.9,2.1,3.7,2.4,5.0]|[3.1855714249597975,2.4459547663756775,5.073601400187314,3.2549329444594877,7.933506896205117] |\n",
      "|4.0|1.4|3.9|3.6|4.3|[4.0,1.4,3.9,3.6,4.3]|[4.393891620634204,1.6306365109171181,5.347850124521763,4.882399416689232,6.8228159307364]     |\n",
      "|4.4|3.6|4.8|2.2|4.9|[4.4,3.6,4.8,2.2,4.9]|[4.833280782697624,4.193065313786875,6.581969384026785,2.9836885324211972,7.774836758281015]   |\n",
      "|1.6|2.0|4.4|3.3|4.0|[1.6,2.0,4.4,3.3,4.0]|[1.7575566482536815,2.3294807298815976,6.033471935357888,4.475532798631796,6.346805516964094]  |\n",
      "|3.1|2.3|3.4|3.5|4.2|[3.1,2.3,3.4,3.5,4.2]|[3.405266005991508,2.678902839363837,4.66222831368564,4.7467772106700865,6.664145792812299]    |\n",
      "|2.0|2.3|3.4|2.8|3.8|[2.0,2.3,3.4,2.8,3.8]|[2.196945810317102,2.678902839363837,4.66222831368564,3.7974217685360685,6.029465241115888]    |\n",
      "|4.1|4.0|4.1|2.9|2.8|[4.1,4.0,4.1,2.9,2.8]|[4.503738911150058,4.658961459763195,5.622098848856212,3.933043974555214,4.442763861874865]    |\n",
      "|4.4|1.8|3.7|4.5|3.0|[4.4,1.8,3.7,4.5,3.0]|[4.833280782697624,2.0965326568934377,5.073601400187314,6.102999270861539,4.76010413772307]    |\n",
      "|2.5|1.8|3.5|3.7|3.4|[2.5,1.8,3.5,3.7,3.4]|[2.7461822628963772,2.0965326568934377,4.799352675852864,5.018021622708377,5.394784689419479]  |\n",
      "|2.9|2.6|3.6|2.9|2.3|[2.9,2.6,3.6,2.9,2.3]|[3.1855714249597975,3.028324948846077,4.936477038020089,3.933043974555214,3.6494131722543535]  |\n",
      "|1.9|3.6|4.3|3.8|3.1|[1.9,3.6,4.3,3.8,3.1]|[2.0870985198012466,4.193065313786875,5.896347573190662,5.153643828727522,4.918774275647173]   |\n",
      "+---+---+---+---+---+---------------------+-----------------------------------------------------------------------------------------------+\n",
      "only showing top 20 rows\n",
      "\n"
     ]
    }
   ],
   "source": [
    "from pyspark.ml.feature import StandardScaler\n",
    "\n",
    "scale=StandardScaler(inputCol='features',outputCol='standardized')\n",
    "data_scale=scale.fit(df)\n",
    "df_scale=data_scale.transform(df)\n",
    "# df_scale.show(truncate=0)"
   ]
  },
  {
   "cell_type": "code",
   "execution_count": 10,
   "id": "76ef726b",
   "metadata": {},
   "outputs": [
    {
     "name": "stdout",
     "output_type": "stream",
     "text": [
      "K = 02 --- Silhouette Score: 0.3088158832835547\n",
      "K = 03 --- Silhouette Score: 0.26515507724437476\n",
      "K = 04 --- Silhouette Score: 0.26719111711531984\n",
      "K = 05 --- Silhouette Score: 0.269824118284978\n",
      "K = 06 --- Silhouette Score: 0.2598682548408992\n",
      "K = 07 --- Silhouette Score: 0.24826454335387027\n",
      "K = 08 --- Silhouette Score: 0.24430647296841934\n",
      "K = 09 --- Silhouette Score: 0.2453700939255757\n"
     ]
    }
   ],
   "source": [
    "silhouette_score=[]\n",
    "evaluator = ClusteringEvaluator(predictionCol='prediction', featuresCol='standardized',\n",
    "                                metricName='silhouette', distanceMeasure='squaredEuclidean')\n",
    "for i in range(2,10):\n",
    "    \n",
    "    KMeans_algo=KMeans(featuresCol='standardized', k=i)\n",
    "    \n",
    "    KMeans_fit=KMeans_algo.fit(df_scale)\n",
    "    \n",
    "    output=KMeans_fit.transform(df_scale)\n",
    "    \n",
    "    \n",
    "    \n",
    "    score=evaluator.evaluate(output)\n",
    "    \n",
    "    silhouette_score.append(score)\n",
    "    \n",
    "    print(\"K = \" + str(i).zfill(2) + \" --- Silhouette Score: \" + str(score))"
   ]
  },
  {
   "cell_type": "code",
   "execution_count": 11,
   "id": "f217385c",
   "metadata": {},
   "outputs": [
    {
     "data": {
      "text/plain": [
       "Text(0, 0.5, 'cost')"
      ]
     },
     "execution_count": 11,
     "metadata": {},
     "output_type": "execute_result"
    },
    {
     "data": {
      "image/png": "[encoded data removed]",
      "text/plain": [
       "<Figure size 576x432 with 1 Axes>"
      ]
     },
     "metadata": {
      "needs_background": "light"
     },
     "output_type": "display_data"
    }
   ],
   "source": [
    "#Visualizing the silhouette scores in a plot\n",
    "import matplotlib.pyplot as plt\n",
    "fig, ax = plt.subplots(1,1, figsize =(8,6))\n",
    "ax.plot(range(2,10),silhouette_score)\n",
    "ax.set_xlabel(\"k\")\n",
    "ax.set_ylabel(\"cost\")"
   ]
  },
  {
   "cell_type": "code",
   "execution_count": null,
   "id": "109923b1",
   "metadata": {},
   "outputs": [],
   "source": []
  },
  {
   "cell_type": "code",
   "execution_count": null,
   "id": "905637d8",
   "metadata": {},
   "outputs": [],
   "source": []
  }
 ],
 "metadata": {
  "kernelspec": {
   "display_name": "Python [conda env:spark3_env] *",
   "language": "python",
   "name": "conda-env-spark3_env-py"
  },
  "language_info": {
   "codemirror_mode": {
    "name": "ipython",
    "version": 3
   },
   "file_extension": ".py",
   "mimetype": "text/x-python",
   "name": "python",
   "nbconvert_exporter": "python",
   "pygments_lexer": "ipython3",
   "version": "3.10.0"
  }
 },
 "nbformat": 4,
 "nbformat_minor": 5
}
