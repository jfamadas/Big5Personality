{
 "cells": [
  {
   "cell_type": "code",
   "execution_count": 22,
   "id": "3193c3b3",
   "metadata": {},
   "outputs": [],
   "source": [
    "from pyspark.ml.clustering import KMeans\n",
    "from pyspark.ml.evaluation import ClusteringEvaluator\n",
    "from pyspark.sql import SparkSession\n",
    "from pyspark.sql.functions import *\n",
    "from pyspark.ml.feature import VectorAssembler\n",
    "\n",
    "spark = SparkSession.builder.master(\"local[*]\").appName(\"appname\").getOrCreate()"
   ]
  },
  {
   "cell_type": "code",
   "execution_count": 23,
   "id": "21842686",
   "metadata": {},
   "outputs": [],
   "source": [
    "# Load data\n",
    "df_raw = spark.read.option(\"delimiter\", \"\\t\").option(\"header\", True).csv(\"data/data-final.csv\")\n",
    "\n",
    "# Prepare data\n",
    "df_rates = df_raw\\\n",
    "    .withColumn(\"EXT\", (col(\"EXT1\") + (6-col(\"EXT2\")) + col(\"EXT3\") + (6-col(\"EXT4\")) + col(\"EXT5\") +\n",
    "                        (6-col(\"EXT6\")) + col(\"EXT7\") + (6-col(\"EXT8\")) + col(\"EXT9\") + (6-col(\"EXT10\")))/10)\\\n",
    "    .withColumn(\"EST\", ((6-col(\"EST1\")) + col(\"EST2\") + (6-col(\"EST3\")) + col(\"EST4\") + (6-col(\"EST5\")) +\n",
    "                        (6-col(\"EST6\")) + (6-col(\"EST7\")) + (6-col(\"EST8\")) + (6-col(\"EST9\")) + (6-col(\"EST10\")))/10)\\\n",
    "    .withColumn(\"AGR\", ((6-col(\"AGR1\")) + col(\"AGR2\") + (6-col(\"AGR3\")) + col(\"AGR4\") + (6-col(\"AGR5\")) +\n",
    "                        col(\"AGR6\") + (6-col(\"AGR7\")) + col(\"AGR8\") + col(\"AGR9\") + col(\"AGR10\"))/10)\\\n",
    "    .withColumn(\"CSN\", (col(\"CSN1\") + (6-col(\"CSN2\")) + col(\"CSN3\") + (6-col(\"CSN4\")) + col(\"CSN5\") +\n",
    "                        (6-col(\"CSN6\")) + col(\"CSN7\") + (6-col(\"CSN8\")) + col(\"CSN9\") + col(\"CSN10\"))/10)\\\n",
    "    .withColumn(\"OPN\", (col(\"OPN1\") + (6-col(\"OPN2\")) + col(\"OPN3\") + (6-col(\"OPN4\")) + col(\"OPN5\") +\n",
    "                        (6-col(\"OPN6\")) + col(\"OPN7\") + col(\"OPN8\") + col(\"OPN9\") + col(\"OPN10\"))/10)\\\n",
    "    .select(col(\"EXT\"), col(\"EST\"), col(\"AGR\"), col(\"CSN\"), col(\"OPN\"))\n",
    "\n",
    "# Clean data WE NEED TO CLEAN 0 VALUES\n",
    "df_clean = df_rates.na.drop()\n",
    "    \n",
    "# Create features column\n",
    "assembler = VectorAssembler(\n",
    "        inputCols=[\"EXT\", \"EST\", \"AGR\", \"CSN\", \"OPN\"],\n",
    "        outputCol=\"features\")\n",
    "\n",
    "df = assembler.transform(df_clean)"
   ]
  },
  {
   "cell_type": "code",
   "execution_count": 24,
   "id": "25b908d6",
   "metadata": {},
   "outputs": [],
   "source": [
    "# Training\n",
    "kmeans = KMeans().setK(5).setSeed(1)\n",
    "model = kmeans.fit(df)"
   ]
  },
  {
   "cell_type": "code",
   "execution_count": 25,
   "id": "951d5889",
   "metadata": {},
   "outputs": [],
   "source": [
    "# Make predictions\n",
    "predictions = model.transform(df)"
   ]
  },
  {
   "cell_type": "code",
   "execution_count": 26,
   "id": "4981d631",
   "metadata": {},
   "outputs": [
    {
     "name": "stdout",
     "output_type": "stream",
     "text": [
      "Silhouette with squared euclidean distance = 0.2618651028753096\n",
      "Cluster Centers: \n",
      "[2.61118028 3.78462274 3.37056457 3.47343695 3.80476295]\n",
      "[3.91352799 3.6062426  4.2112818  3.76145545 4.06859859]\n",
      "[2.0798237  2.36997026 3.06043923 2.85953386 3.52100788]\n",
      "[2.38772268 2.40689203 4.07692852 3.78799174 3.91519239]\n",
      "[3.53399634 2.37051449 3.91663363 2.79490552 3.97069976]\n"
     ]
    }
   ],
   "source": [
    "# Evaluate clustering by computing Silhouette score\n",
    "evaluator = ClusteringEvaluator(predictionCol='prediction', featuresCol='features',\n",
    "                                metricName='silhouette', distanceMeasure='squaredEuclidean')\n",
    "\n",
    "silhouette = evaluator.evaluate(predictions)\n",
    "print(\"Silhouette with squared euclidean distance = \" + str(silhouette))\n",
    "\n",
    "# Shows the result.\n",
    "centers = model.clusterCenters()\n",
    "print(\"Cluster Centers: \")\n",
    "for center in centers:\n",
    "    print(center)"
   ]
  },
  {
   "cell_type": "markdown",
   "id": "54f36ef1",
   "metadata": {},
   "source": [
    "# Evaluate multiple K"
   ]
  },
  {
   "cell_type": "code",
   "execution_count": 12,
   "id": "616b8df6",
   "metadata": {},
   "outputs": [
    {
     "name": "stdout",
     "output_type": "stream",
     "text": [
      "K = 02 --- Silhouette Score: 0.340182387201013\n",
      "K = 03 --- Silhouette Score: 0.29543643623753496\n",
      "K = 04 --- Silhouette Score: 0.27410359012536906\n",
      "K = 05 --- Silhouette Score: 0.25408768217715655\n",
      "K = 06 --- Silhouette Score: 0.24905754534118626\n",
      "K = 07 --- Silhouette Score: 0.26092509211250614\n",
      "K = 08 --- Silhouette Score: 0.24789685352781768\n",
      "K = 09 --- Silhouette Score: 0.24984857642263975\n"
     ]
    }
   ],
   "source": [
    "silhouette_score=[]\n",
    "evaluator = ClusteringEvaluator(predictionCol='prediction', featuresCol='features',\n",
    "                                metricName='silhouette', distanceMeasure='squaredEuclidean')\n",
    "for i in range(2,10):\n",
    "    \n",
    "    KMeans_algo=KMeans(featuresCol='features', k=i)\n",
    "    \n",
    "    KMeans_fit=KMeans_algo.fit(df)\n",
    "    \n",
    "    output=KMeans_fit.transform(df)\n",
    "    \n",
    "    \n",
    "    \n",
    "    score=evaluator.evaluate(output)\n",
    "    \n",
    "    silhouette_score.append(score)\n",
    "    \n",
    "    print(\"K = \" + str(i).zfill(2) + \" --- Silhouette Score: \" + str(score))"
   ]
  },
  {
   "cell_type": "code",
   "execution_count": 15,
   "id": "fb4bb1ac",
   "metadata": {},
   "outputs": [
    {
     "data": {
      "text/plain": [
       "Text(0, 0.5, 'cost')"
      ]
     },
     "execution_count": 15,
     "metadata": {},
     "output_type": "execute_result"
    },
    {
     "data": {
      "image/png": "[encoded data removed]",
      "text/plain": [
       "<Figure size 576x432 with 1 Axes>"
      ]
     },
     "metadata": {
      "needs_background": "light"
     },
     "output_type": "display_data"
    }
   ],
   "source": [
    "#Visualizing the silhouette scores in a plot\n",
    "import matplotlib.pyplot as plt\n",
    "fig, ax = plt.subplots(1,1, figsize =(8,6))\n",
    "ax.plot(range(2,10),silhouette_score)\n",
    "ax.set_xlabel(\"k\")\n",
    "ax.set_ylabel(\"cost\")"
   ]
  },
  {
   "cell_type": "markdown",
   "id": "c6ac66d4",
   "metadata": {},
   "source": [
    "# Standarize"
   ]
  },
  {
   "cell_type": "code",
   "execution_count": 18,
   "id": "192c6819",
   "metadata": {},
   "outputs": [
    {
     "name": "stdout",
     "output_type": "stream",
     "text": [
      "+---+---+---+---+---+---------------------+----------------------------------------------------------------------------------------------+\n",
      "|EXT|EST|AGR|CSN|OPN|features             |standardized                                                                                  |\n",
      "+---+---+---+---+---+---------------------+----------------------------------------------------------------------------------------------+\n",
      "|4.6|3.6|3.9|3.2|4.5|[4.6,3.6,3.9,3.2,4.5]|[5.0858721468363814,4.17976785406787,5.32573804350229,4.341253632864865,6.966894913544764]    |\n",
      "|2.0|3.5|4.4|3.7|3.5|[2.0,3.5,4.4,3.7,3.5]|[2.211248759494079,4.063663191454873,6.00852497215643,5.019574513000001,5.41869604386815]     |\n",
      "|2.5|3.4|4.2|3.4|4.1|[2.5,3.4,4.2,3.4,4.1]|[2.764060949367599,3.9475585288418773,5.7354102006947745,4.612581984918919,6.347615365674118] |\n",
      "|2.6|3.1|3.8|2.5|3.9|[2.6,3.1,3.8,2.5,3.9]|[2.874623387342303,3.5992445410028884,5.1891806577714625,3.3916044006756763,6.037975591738795]|\n",
      "|2.9|4.1|4.6|4.8|4.8|[2.9,4.1,4.6,4.8,4.8]|[3.2063107012664145,4.760291167132851,6.2816397436180855,6.511880449297299,7.431354574447748] |\n",
      "|3.2|3.8|3.8|3.7|4.4|[3.2,3.8,3.8,3.7,4.4]|[3.5379980151905266,4.411977179293863,5.1891806577714625,5.019574513000001,6.812075026577103] |\n",
      "|3.5|3.0|4.1|3.3|4.3|[3.5,3.0,4.1,3.3,4.3]|[3.8696853291146383,3.483139878389892,5.598852814963946,4.476917808891892,6.657255139609441]  |\n",
      "|4.2|4.4|3.8|4.5|4.3|[4.2,4.4,3.8,4.5,4.3]|[4.643622394937566,5.108605154971841,5.1891806577714625,6.104887921216218,6.657255139609441]  |\n",
      "|3.2|3.0|4.5|3.1|4.5|[3.2,3.0,4.5,3.1,4.5]|[3.5379980151905266,3.483139878389892,6.145082357887258,4.2055894568378385,6.966894913544764] |\n",
      "|2.2|2.9|1.9|1.7|3.5|[2.2,2.9,1.9,1.7,3.5]|[2.4323736354434873,3.367035215776895,2.5945903288857313,2.3062909924594597,5.41869604386815] |\n",
      "|2.9|2.1|3.7|2.4|5.0|[2.9,2.1,3.7,2.4,5.0]|[3.2063107012664145,2.4381979148729243,5.052623272040635,3.2559402246486493,7.740994348383071]|\n",
      "|4.0|1.4|3.9|3.6|4.3|[4.0,1.4,3.9,3.6,4.3]|[4.422497518988158,1.6254652765819493,5.32573804350229,4.883910336972974,6.657255139609441]   |\n",
      "|4.4|3.6|4.8|2.2|4.9|[4.4,3.6,4.8,2.2,4.9]|[4.864747270886975,4.17976785406787,6.554754515079742,2.9846118725945954,7.5861744614154105]  |\n",
      "|1.0|1.6|2.6|3.9|4.2|[1.0,1.6,2.6,3.9,4.2]|[1.1056243797470395,1.8576746018079424,3.550492029001527,5.290902865054055,6.50243525264178]  |\n",
      "|1.6|2.0|4.4|3.3|4.0|[1.6,2.0,4.4,3.3,4.0]|[1.7689990075952633,2.322093252259928,6.00852497215643,4.476917808891892,6.192795478706457]   |\n",
      "|3.1|2.3|3.4|3.5|4.2|[3.1,2.3,3.4,3.5,4.2]|[3.4274355772158227,2.6704072400989167,4.642951114848151,4.748246160945946,6.50243525264178]  |\n",
      "|2.0|2.3|3.4|2.8|3.8|[2.0,2.3,3.4,2.8,3.8]|[2.211248759494079,2.6704072400989167,4.642951114848151,3.798596928756757,5.883155704771134]  |\n",
      "|4.1|4.0|4.1|2.9|2.8|[4.1,4.0,4.1,2.9,2.8]|[4.533059956962862,4.644186504519856,5.598852814963946,3.9342611047837845,4.33495683509452]   |\n",
      "|4.0|3.9|4.9|2.3|3.7|[4.0,3.9,4.9,2.3,3.7]|[4.422497518988158,4.528081841906859,6.691311900810571,3.120276048621622,5.728335817803473]   |\n",
      "|4.4|1.8|3.7|4.5|3.0|[4.4,1.8,3.7,4.5,3.0]|[4.864747270886975,2.089883927033935,5.052623272040635,6.104887921216218,4.6445966090298425]  |\n",
      "+---+---+---+---+---+---------------------+----------------------------------------------------------------------------------------------+\n",
      "only showing top 20 rows\n",
      "\n"
     ]
    }
   ],
   "source": [
    "from pyspark.ml.feature import StandardScaler\n",
    "\n",
    "scale=StandardScaler(inputCol='features',outputCol='standardized')\n",
    "data_scale=scale.fit(df)\n",
    "df_scale=data_scale.transform(df)\n",
    "df_scale.show(truncate=0)"
   ]
  },
  {
   "cell_type": "code",
   "execution_count": 20,
   "id": "76ef726b",
   "metadata": {},
   "outputs": [
    {
     "name": "stdout",
     "output_type": "stream",
     "text": [
      "K = 02 --- Silhouette Score: 0.3078660767323851\n",
      "K = 03 --- Silhouette Score: 0.2715500072483851\n",
      "K = 04 --- Silhouette Score: 0.24868107849169274\n",
      "K = 05 --- Silhouette Score: 0.2692868062099697\n",
      "K = 06 --- Silhouette Score: 0.253434851454192\n",
      "K = 07 --- Silhouette Score: 0.24296888732150798\n",
      "K = 08 --- Silhouette Score: 0.24282405764571416\n",
      "K = 09 --- Silhouette Score: 0.24271801723878486\n"
     ]
    }
   ],
   "source": [
    "silhouette_score=[]\n",
    "evaluator = ClusteringEvaluator(predictionCol='prediction', featuresCol='standardized',\n",
    "                                metricName='silhouette', distanceMeasure='squaredEuclidean')\n",
    "for i in range(2,10):\n",
    "    \n",
    "    KMeans_algo=KMeans(featuresCol='standardized', k=i)\n",
    "    \n",
    "    KMeans_fit=KMeans_algo.fit(df_scale)\n",
    "    \n",
    "    output=KMeans_fit.transform(df_scale)\n",
    "    \n",
    "    \n",
    "    \n",
    "    score=evaluator.evaluate(output)\n",
    "    \n",
    "    silhouette_score.append(score)\n",
    "    \n",
    "    print(\"K = \" + str(i).zfill(2) + \" --- Silhouette Score: \" + str(score))"
   ]
  },
  {
   "cell_type": "code",
   "execution_count": 21,
   "id": "f217385c",
   "metadata": {},
   "outputs": [
    {
     "data": {
      "text/plain": [
       "Text(0, 0.5, 'cost')"
      ]
     },
     "execution_count": 21,
     "metadata": {},
     "output_type": "execute_result"
    },
    {
     "data": {
      "image/png": "[encoded data removed]",
      "text/plain": [
       "<Figure size 576x432 with 1 Axes>"
      ]
     },
     "metadata": {
      "needs_background": "light"
     },
     "output_type": "display_data"
    }
   ],
   "source": [
    "#Visualizing the silhouette scores in a plot\n",
    "import matplotlib.pyplot as plt\n",
    "fig, ax = plt.subplots(1,1, figsize =(8,6))\n",
    "ax.plot(range(2,10),silhouette_score)\n",
    "ax.set_xlabel(\"k\")\n",
    "ax.set_ylabel(\"cost\")"
   ]
  },
  {
   "cell_type": "code",
   "execution_count": null,
   "id": "109923b1",
   "metadata": {},
   "outputs": [],
   "source": []
  }
 ],
 "metadata": {
  "kernelspec": {
   "display_name": "Python [conda env:spark3_env] *",
   "language": "python",
   "name": "conda-env-spark3_env-py"
  },
  "language_info": {
   "codemirror_mode": {
    "name": "ipython",
    "version": 3
   },
   "file_extension": ".py",
   "mimetype": "text/x-python",
   "name": "python",
   "nbconvert_exporter": "python",
   "pygments_lexer": "ipython3",
   "version": "3.10.0"
  }
 },
 "nbformat": 4,
 "nbformat_minor": 5
}
